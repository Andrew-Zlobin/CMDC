{
 "cells": [
  {
   "cell_type": "markdown",
   "id": "2d5b9ce3-8928-4e5c-94aa-658b7d63de86",
   "metadata": {},
   "source": [
    "# Домашнее задание 3"
   ]
  },
  {
   "cell_type": "markdown",
   "id": "c3ba0b42-1c65-4e2c-8669-99dc7c5b155b",
   "metadata": {},
   "source": [
    "Весь код архиватора лежит тут: https://github.com/Andrew-Zlobin/CMDC/tree/main/task3"
   ]
  },
  {
   "cell_type": "markdown",
   "id": "ff80cf89-f5c0-4fe5-8020-411fa3bc308f",
   "metadata": {},
   "source": [
    "Смотреть на результаты будем на примере теста из предыдущего задания. Поэтому, для начала откроем его:"
   ]
  },
  {
   "cell_type": "code",
   "execution_count": 1,
   "id": "68b2c421-75bd-4964-a9b3-a3d29233167c",
   "metadata": {},
   "outputs": [],
   "source": [
    "text = None\n",
    "with open('war_peace_ascii_Zlobin_AS.txt', 'r', encoding='utf-8') as file:\n",
    "# with open('test.txt', 'r', encoding='utf-8') as file:\n",
    "    text = file.read()"
   ]
  },
  {
   "cell_type": "code",
   "execution_count": 2,
   "id": "bdea5357-32d8-40a1-9702-cc4b63f29851",
   "metadata": {},
   "outputs": [
    {
     "data": {
      "text/plain": [
       "'\\nCHAPTER I\\n\\n\"Well, Prince, so Genoa and Lucca are now just family estates of the\\nBuonapartes. But I warn you, if you don\\'t tell me that this means war,\\nif you still try to defend the infamies and horrors perpetrated by that\\nAntichrist-I really believe he is Antichrist-I will have nothing\\nmore to do with you and you are no longer my friend, no longer my\\n\\'faithful slave,\\' as you call yourself! But how do you do? I see I\\nhave frightened you-sit down and tell me all the news.\"\\n\\nIt was in July, 1805, and the speaker was the well-known Anna Pavlovna\\nScherer, maid of honor and favorite of the Empress Marya Fedorovna.\\nWith these words she greeted Prince Vasili Kuragin, a man of high\\nrank and importance, who was the first to arrive at her reception. Anna\\nPavlovna had had a cough for some days. She was, as she said, suffering\\nfrom la grippe; grippe being then a new word in St. Petersburg, used\\nonly by the elite.\\n\\nAll her invitations without exception, written in French, and delivered\\nby a scarle'"
      ]
     },
     "execution_count": 2,
     "metadata": {},
     "output_type": "execute_result"
    }
   ],
   "source": [
    "text[:1000]"
   ]
  },
  {
   "cell_type": "markdown",
   "id": "36de36cc-9023-496c-af87-f763c75eb6e9",
   "metadata": {},
   "source": [
    "В файлах https://github.com/Andrew-Zlobin/CMDC/blob/main/task3/BWT.py и https://github.com/Andrew-Zlobin/CMDC/blob/main/task3/DC.py реализованы алгориты BWT и DC соответсвенно."
   ]
  },
  {
   "cell_type": "code",
   "execution_count": 3,
   "id": "1449d02b-e9cb-4b24-afcf-757201a429b1",
   "metadata": {},
   "outputs": [],
   "source": [
    "from BWT import BWT\n",
    "from DC import DC\n",
    "from utils import BWT_DC_encode_pipeline, BWT_DC_decode_pipeline, alphabet_to_number, number_to_alphabet"
   ]
  },
  {
   "cell_type": "markdown",
   "id": "bc0bb244-1e71-4b54-a45e-153b1232c1ba",
   "metadata": {},
   "source": [
    "Напишем вспомогательные функции, чтобы убедиться, что они работают корректно:"
   ]
  },
  {
   "cell_type": "code",
   "execution_count": 4,
   "id": "097bbed3-e178-4c03-aab7-c674b58f360e",
   "metadata": {},
   "outputs": [],
   "source": [
    "def BWT_DC_encode(text):\n",
    "    bwt_text = BWT.forward(text)\n",
    "    alphabet = \"\\x01\" + \"\".join(sorted(list(set(text))))\n",
    "    int_alphabet = alphabet_to_number(alphabet)\n",
    "    print(\"end symbol in bwt\", '\\x01' in bwt_text)\n",
    "    print(\"end symbol in alphabet\", '\\x01' in alphabet)\n",
    "    print(\"bwt_text = \", bwt_text)\n",
    "    dc_text = DC.code(bwt_text, alphabet, BWT.get_char_spacing())\n",
    "    text_len = len(bwt_text)\n",
    "    array_to_encode = [text_len] + dc_text\n",
    "    return array_to_encode, int_alphabet\n",
    "\n",
    "def BWT_DC_decode(array_to_encode, int_alphabet):\n",
    "    text_len = array_to_encode[0]\n",
    "    dc_text = array_to_encode[1:]\n",
    "    alphabet = number_to_alphabet(int_alphabet)\n",
    "    dc_decoded = DC.decode(dc_text, alphabet, text_len)\n",
    "    bwt_decoded = BWT.reverse(dc_decoded)\n",
    "    print(\"end symbol in dc\", '\\x01' in bwt_decoded)\n",
    "    return bwt_decoded"
   ]
  },
  {
   "cell_type": "code",
   "execution_count": 5,
   "id": "c1f7566b-3138-4f07-ad4f-6c29243b9a76",
   "metadata": {},
   "outputs": [
    {
     "name": "stderr",
     "output_type": "stream",
     "text": [
      "/home/dr_drew/Projects/CMDC_env/lib/python3.11/site-packages/pydivsufsort/divsufsort.py:103: UserWarning: converting str argument uses more memory\n",
      "  inp_p = _get_bytes_pointer(inp)\n",
      "100%|██████████████████████████████████████████████████████████████████████████████████████████████████████████████████████████████████████████| 3201650/3201650 [00:00<00:00, 5721997.79it/s]\n",
      "IOPub data rate exceeded.\n",
      "The Jupyter server will temporarily stop sending output\n",
      "to the client in order to avoid crashing it.\n",
      "To change this limit, set the config variable\n",
      "`--ServerApp.iopub_data_rate_limit`.\n",
      "\n",
      "Current values:\n",
      "ServerApp.iopub_data_rate_limit=1000000.0 (bytes/sec)\n",
      "ServerApp.rate_limit_window=3.0 (secs)\n",
      "\n"
     ]
    }
   ],
   "source": [
    "prepared_list, alph = BWT_DC_encode(text)"
   ]
  },
  {
   "cell_type": "code",
   "execution_count": 6,
   "id": "ee2faaa0-0a20-4a41-8a39-536e5929a6b8",
   "metadata": {},
   "outputs": [
    {
     "name": "stdout",
     "output_type": "stream",
     "text": [
      "end symbol in dc False\n"
     ]
    }
   ],
   "source": [
    "decoded_text = BWT_DC_decode(prepared_list, alph)"
   ]
  },
  {
   "cell_type": "code",
   "execution_count": 7,
   "id": "dab1efc6-8e10-442f-ab0a-7c2dd64064c1",
   "metadata": {},
   "outputs": [
    {
     "data": {
      "text/plain": [
       "'\\nCHAPTER I\\n\\n\"Well, Prince, so Genoa and Lucca are now just family estates of the\\nBuonapartes. But I '"
      ]
     },
     "execution_count": 7,
     "metadata": {},
     "output_type": "execute_result"
    }
   ],
   "source": [
    "decoded_text[:100]"
   ]
  },
  {
   "cell_type": "markdown",
   "id": "3ae1d12e-3fcf-4159-bfc0-6c1586ace062",
   "metadata": {},
   "source": [
    "Строки совпадают, значит алгоритмы работают верно"
   ]
  },
  {
   "cell_type": "code",
   "execution_count": 8,
   "id": "4e8c5bbb-a131-4360-849a-978338901950",
   "metadata": {},
   "outputs": [
    {
     "data": {
      "text/plain": [
       "[]"
      ]
     },
     "execution_count": 8,
     "metadata": {},
     "output_type": "execute_result"
    }
   ],
   "source": [
    "[i for i, j in zip(text, decoded_text) if i != j]"
   ]
  },
  {
   "cell_type": "markdown",
   "id": "0bef158b-d0ab-4152-8e1c-34af1c2c6c70",
   "metadata": {},
   "source": [
    "Посмотрим на небольшую статистику массива, который получается после DC:"
   ]
  },
  {
   "cell_type": "code",
   "execution_count": 9,
   "id": "2f435221-7380-48ac-a7a9-eca0121460a6",
   "metadata": {},
   "outputs": [
    {
     "data": {
      "text/plain": [
       "(3007480, 3201650)"
      ]
     },
     "execution_count": 9,
     "metadata": {},
     "output_type": "execute_result"
    }
   ],
   "source": [
    "max(prepared_list[1:]), max(prepared_list)"
   ]
  },
  {
   "cell_type": "code",
   "execution_count": 10,
   "id": "de374fbc-c453-41c1-91a4-511ca7617e6f",
   "metadata": {},
   "outputs": [
    {
     "data": {
      "text/plain": [
       "3201649"
      ]
     },
     "execution_count": 10,
     "metadata": {},
     "output_type": "execute_result"
    }
   ],
   "source": [
    "len(text)"
   ]
  },
  {
   "cell_type": "code",
   "execution_count": 11,
   "id": "741edf80-e9cb-41f0-bdd8-b2e377e436c2",
   "metadata": {},
   "outputs": [
    {
     "data": {
      "text/plain": [
       "1378857"
      ]
     },
     "execution_count": 11,
     "metadata": {},
     "output_type": "execute_result"
    }
   ],
   "source": [
    "len(prepared_list)"
   ]
  },
  {
   "cell_type": "code",
   "execution_count": 12,
   "id": "508cbe0f-e1d0-4c28-8930-2dd67df92474",
   "metadata": {},
   "outputs": [
    {
     "data": {
      "text/plain": [
       "1343183"
      ]
     },
     "execution_count": 12,
     "metadata": {},
     "output_type": "execute_result"
    }
   ],
   "source": [
    "sum([1 for el in prepared_list if el <= 254])"
   ]
  },
  {
   "cell_type": "code",
   "execution_count": 13,
   "id": "caba3acf-9480-419d-9ea1-f2220fac56c2",
   "metadata": {},
   "outputs": [
    {
     "data": {
      "text/plain": [
       "35279"
      ]
     },
     "execution_count": 13,
     "metadata": {},
     "output_type": "execute_result"
    }
   ],
   "source": [
    "sum([1 for el in prepared_list if el > 254 and el <= 65789])"
   ]
  },
  {
   "cell_type": "code",
   "execution_count": 14,
   "id": "7c2898a3-c51a-473d-be38-2a13fb69190e",
   "metadata": {},
   "outputs": [
    {
     "data": {
      "text/plain": [
       "395"
      ]
     },
     "execution_count": 14,
     "metadata": {},
     "output_type": "execute_result"
    }
   ],
   "source": [
    "sum([1 for el in prepared_list if el > 254 and el > 65789])"
   ]
  },
  {
   "cell_type": "markdown",
   "id": "82309cb2-1e5e-4c47-8a35-45bfff743d9c",
   "metadata": {},
   "source": [
    "Итого, получается, что текст длиной 3201649 символов, преобразуется в массив из 1378857 чисел, 1343183 меньше 254, 395 больше 65789 и 35279 лежат между 254 и 65789"
   ]
  },
  {
   "cell_type": "markdown",
   "id": "2bd557e2-f59d-45df-bf10-97c76959bfdf",
   "metadata": {},
   "source": [
    "Для сжатия этого массива будем использовать дельта-код Элиаса, арифметическое, и кодирование с переполнением\n",
    "Они реалзованы соответственно в:  \n",
    "https://github.com/Andrew-Zlobin/CMDC/blob/main/task3/compression/elias.py  \n",
    "https://github.com/Andrew-Zlobin/CMDC/blob/main/task3/compression/arithmetic.py  \n",
    "https://github.com/Andrew-Zlobin/CMDC/blob/main/task3/compression/overflow.py"
   ]
  },
  {
   "cell_type": "markdown",
   "id": "8d201954-1cdc-4712-9fc2-6be030766e48",
   "metadata": {},
   "source": [
    "И резульаты работы на тексте из предыдущего задания"
   ]
  },
  {
   "cell_type": "markdown",
   "id": "8401f3b3-20c7-4cbf-beed-dd9f549854c0",
   "metadata": {},
   "source": [
    "### Дельта код:"
   ]
  },
  {
   "cell_type": "markdown",
   "id": "528532dc-9624-4f8d-a0ee-8b33a4ba4f63",
   "metadata": {},
   "source": [
    "Кодирование"
   ]
  },
  {
   "cell_type": "code",
   "execution_count": 19,
   "id": "1ea14825-150e-498d-b5b6-b9d08e4fe18d",
   "metadata": {},
   "outputs": [
    {
     "name": "stdout",
     "output_type": "stream",
     "text": [
      "/home/dr_drew/Projects/CMDC_env/lib/python3.11/site-packages/pydivsufsort/divsufsort.py:103: UserWarning: converting str argument uses more memory\n",
      "  inp_p = _get_bytes_pointer(inp)\n",
      "100%|████████████████████████████| 3201650/3201650 [00:00<00:00, 5813840.89it/s]\n",
      "CPU times: user 20.4 ms, sys: 12.2 ms, total: 32.6 ms\n",
      "Wall time: 2.74 s\n"
     ]
    }
   ],
   "source": [
    "%%time\n",
    "!python3 compressor.py war_peace_ascii_Zlobin_AS.txt -d -f result.compressed"
   ]
  },
  {
   "cell_type": "markdown",
   "id": "af99d8ec-559d-4aa5-9446-390376410d65",
   "metadata": {},
   "source": [
    "Размер закодированного файла:"
   ]
  },
  {
   "cell_type": "code",
   "execution_count": 20,
   "id": "6ff6a516-f1ce-4810-a359-66c7637df74d",
   "metadata": {},
   "outputs": [
    {
     "name": "stdout",
     "output_type": "stream",
     "text": [
      "-rw-r--r-- 1 dr_drew dr_drew 919189 июн 23 17:50 result.compressed\n"
     ]
    }
   ],
   "source": [
    "!ls -l result.compressed"
   ]
  },
  {
   "cell_type": "markdown",
   "id": "4cddc4e9-783a-45f3-b779-e57cfe89a0fd",
   "metadata": {},
   "source": [
    "Декодирование:"
   ]
  },
  {
   "cell_type": "code",
   "execution_count": null,
   "id": "cfeb0cbb-1d18-48b9-91dd-f8af7f003ece",
   "metadata": {
    "scrolled": true
   },
   "outputs": [],
   "source": [
    "%%time\n",
    "!python3 compressor.py result.compressed -d -f decoded.txt"
   ]
  },
  {
   "cell_type": "markdown",
   "id": "4059121f-e5fb-4473-9937-c7b987646f89",
   "metadata": {},
   "source": [
    "CPU times: user 2.61 s, sys: 580 ms, total: 3.19 s\n",
    "Wall time: 4min 1s"
   ]
  },
  {
   "cell_type": "markdown",
   "id": "05771176-9402-4149-ae4b-9de42eb2020f",
   "metadata": {},
   "source": [
    "Проверяем, чтобы файл совпал с исходным:"
   ]
  },
  {
   "cell_type": "code",
   "execution_count": 22,
   "id": "8343745d-f4c2-477e-87f7-8cec7177f577",
   "metadata": {},
   "outputs": [],
   "source": [
    "!cmp war_peace_ascii_Zlobin_AS.txt decoded.txt"
   ]
  },
  {
   "cell_type": "markdown",
   "id": "a8749528-6576-436c-be47-51276f309cfa",
   "metadata": {},
   "source": [
    "### Арифметическое кодирование"
   ]
  },
  {
   "cell_type": "markdown",
   "id": "bd6a9f55-b25f-4c68-86a2-ccfa086ecfb6",
   "metadata": {},
   "source": [
    "Кодирование"
   ]
  },
  {
   "cell_type": "code",
   "execution_count": 23,
   "id": "006be1dd-52a3-4cba-8d46-d8b878615b2d",
   "metadata": {},
   "outputs": [
    {
     "name": "stdout",
     "output_type": "stream",
     "text": [
      "/home/dr_drew/Projects/CMDC_env/lib/python3.11/site-packages/pydivsufsort/divsufsort.py:103: UserWarning: converting str argument uses more memory\n",
      "  inp_p = _get_bytes_pointer(inp)\n",
      "100%|████████████████████████████| 3201650/3201650 [00:00<00:00, 5822550.34it/s]\n",
      "CPU times: user 988 ms, sys: 193 ms, total: 1.18 s\n",
      "Wall time: 3min 40s\n"
     ]
    }
   ],
   "source": [
    "%%time\n",
    "!python3 compressor.py war_peace_ascii_Zlobin_AS.txt -a -f result.compressed"
   ]
  },
  {
   "cell_type": "markdown",
   "id": "d4ce9528-792e-426b-a907-4fae7db97b15",
   "metadata": {},
   "source": [
    "Размер закодированного файла:"
   ]
  },
  {
   "cell_type": "code",
   "execution_count": 24,
   "id": "73a72361-75f0-47a3-bb0e-04dc83d1c73b",
   "metadata": {},
   "outputs": [
    {
     "name": "stdout",
     "output_type": "stream",
     "text": [
      "-rw-r--r-- 1 dr_drew dr_drew 863866 июн 23 17:57 result.compressed\n"
     ]
    }
   ],
   "source": [
    "!ls -l result.compressed"
   ]
  },
  {
   "cell_type": "markdown",
   "id": "1ecd8288-f7f7-4a31-96d7-f1fe83819fc1",
   "metadata": {},
   "source": [
    "Декодирование:"
   ]
  },
  {
   "cell_type": "code",
   "execution_count": 25,
   "id": "e7116f5f-ef8c-42c3-b931-11383fde0a1f",
   "metadata": {},
   "outputs": [
    {
     "name": "stdout",
     "output_type": "stream",
     "text": [
      "CPU times: user 1.05 s, sys: 320 ms, total: 1.37 s\n",
      "Wall time: 4min 15s\n"
     ]
    }
   ],
   "source": [
    "%%time\n",
    "!python3 compressor.py result.compressed -a -f decoded.txt"
   ]
  },
  {
   "cell_type": "markdown",
   "id": "9ad89308-1770-412e-b07e-ea967e9a0d93",
   "metadata": {},
   "source": [
    "Проверяем, чтобы файл совпал с исходным:"
   ]
  },
  {
   "cell_type": "code",
   "execution_count": 26,
   "id": "f848a138-4626-4956-8a5d-1f6d3163829e",
   "metadata": {},
   "outputs": [],
   "source": [
    "!cmp war_peace_ascii_Zlobin_AS.txt decoded.txt"
   ]
  },
  {
   "cell_type": "markdown",
   "id": "c411b665-2105-4faf-845f-e9d360497a90",
   "metadata": {},
   "source": [
    "### Кодирование с переполнением:"
   ]
  },
  {
   "cell_type": "markdown",
   "id": "fd248aa9-f8b2-41ac-bc74-371a3d4f7e82",
   "metadata": {},
   "source": [
    "Кодирование"
   ]
  },
  {
   "cell_type": "code",
   "execution_count": 27,
   "id": "d7d9f101-d53d-4052-add4-7202e2d9111d",
   "metadata": {},
   "outputs": [
    {
     "name": "stdout",
     "output_type": "stream",
     "text": [
      "/home/dr_drew/Projects/CMDC_env/lib/python3.11/site-packages/pydivsufsort/divsufsort.py:103: UserWarning: converting str argument uses more memory\n",
      "  inp_p = _get_bytes_pointer(inp)\n",
      "100%|████████████████████████████| 3201650/3201650 [00:00<00:00, 5819734.24it/s]\n",
      "CPU times: user 18.7 ms, sys: 5.48 ms, total: 24.2 ms\n",
      "Wall time: 2.46 s\n"
     ]
    }
   ],
   "source": [
    "%%time\n",
    "!python3 compressor.py war_peace_ascii_Zlobin_AS.txt -o -f result.compressed"
   ]
  },
  {
   "cell_type": "markdown",
   "id": "e744300c-6783-430b-91eb-9e56f79752e6",
   "metadata": {},
   "source": [
    "Размер закодированного файла:"
   ]
  },
  {
   "cell_type": "code",
   "execution_count": 28,
   "id": "09a38341-c484-4673-93d2-fff3835265ac",
   "metadata": {},
   "outputs": [
    {
     "name": "stdout",
     "output_type": "stream",
     "text": [
      "-rw-r--r-- 1 dr_drew dr_drew 1451817 июн 23 18:02 result.compressed\n"
     ]
    }
   ],
   "source": [
    "!ls -l result.compressed"
   ]
  },
  {
   "cell_type": "markdown",
   "id": "18baf694-e86a-4a1c-b010-dcecac8cd801",
   "metadata": {},
   "source": [
    "Декодирование:"
   ]
  },
  {
   "cell_type": "code",
   "execution_count": 29,
   "id": "20881acd-5d40-4e1f-b253-c4df28130aa3",
   "metadata": {},
   "outputs": [
    {
     "name": "stdout",
     "output_type": "stream",
     "text": [
      "CPU times: user 34.4 ms, sys: 24.7 ms, total: 59.1 ms\n",
      "Wall time: 8.87 s\n"
     ]
    }
   ],
   "source": [
    "%%time\n",
    "!python3 compressor.py result.compressed -o -f decoded.txt"
   ]
  },
  {
   "cell_type": "markdown",
   "id": "e9acb262-678a-4839-b6be-dd6cf1b61c34",
   "metadata": {},
   "source": [
    "Проверяем, чтобы файл совпал с исходным:"
   ]
  },
  {
   "cell_type": "code",
   "execution_count": 30,
   "id": "49d912f2-fd6e-47fa-8b96-3667f9b87931",
   "metadata": {},
   "outputs": [],
   "source": [
    "!cmp war_peace_ascii_Zlobin_AS.txt decoded.txt"
   ]
  },
  {
   "cell_type": "code",
   "execution_count": 31,
   "id": "9b3393ae-08d3-48c2-a457-bdb6173c24e4",
   "metadata": {},
   "outputs": [
    {
     "name": "stdout",
     "output_type": "stream",
     "text": [
      "-rw-r--r-- 1 dr_drew dr_drew 3201649 июн 20 15:02 war_peace_ascii_Zlobin_AS.txt\n"
     ]
    }
   ],
   "source": [
    "!ls -l war_peace_ascii_Zlobin_AS.txt"
   ]
  },
  {
   "cell_type": "markdown",
   "id": "61adc7e1-1b70-47d7-aa5a-4f73b41c6472",
   "metadata": {},
   "source": [
    "Итого получилось, что исходный текст объёмом 3.05 мб удалось сжать до 1.38 мб кодированием с переполнением, до 0.87 мб дельта кодом и до 0.82 мб арифметическим кодированием. Арифметическое кодирование показало наилучший результат"
   ]
  },
  {
   "cell_type": "code",
   "execution_count": null,
   "id": "b3cfbecd-1fb2-4be3-98be-e30d0013aae5",
   "metadata": {},
   "outputs": [],
   "source": []
  }
 ],
 "metadata": {
  "kernelspec": {
   "display_name": "Python 3 (ipykernel)",
   "language": "python",
   "name": "python3"
  },
  "language_info": {
   "codemirror_mode": {
    "name": "ipython",
    "version": 3
   },
   "file_extension": ".py",
   "mimetype": "text/x-python",
   "name": "python",
   "nbconvert_exporter": "python",
   "pygments_lexer": "ipython3",
   "version": "3.11.2"
  }
 },
 "nbformat": 4,
 "nbformat_minor": 5
}
