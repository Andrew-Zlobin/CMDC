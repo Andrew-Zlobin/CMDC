{
 "cells": [
  {
   "cell_type": "markdown",
   "id": "2d5b9ce3-8928-4e5c-94aa-658b7d63de86",
   "metadata": {},
   "source": [
    "# Домашнее задание 3"
   ]
  },
  {
   "cell_type": "markdown",
   "id": "c3ba0b42-1c65-4e2c-8669-99dc7c5b155b",
   "metadata": {},
   "source": [
    "Весь код архиватора лежит тут: https://github.com/Andrew-Zlobin/CMDC/tree/main/task3"
   ]
  },
  {
   "cell_type": "markdown",
   "id": "ff80cf89-f5c0-4fe5-8020-411fa3bc308f",
   "metadata": {},
   "source": [
    "Смотреть на результаты будем на примере теста из предыдущего задания. Поэтому, для начала откроем его:"
   ]
  },
  {
   "cell_type": "code",
   "execution_count": 1,
   "id": "68b2c421-75bd-4964-a9b3-a3d29233167c",
   "metadata": {},
   "outputs": [],
   "source": [
    "text = None\n",
    "with open('war_peace_ascii_Zlobin_AS.txt', 'r', encoding='utf-8') as file:\n",
    "# with open('test.txt', 'r', encoding='utf-8') as file:\n",
    "    text = file.read()"
   ]
  },
  {
   "cell_type": "code",
   "execution_count": 2,
   "id": "bdea5357-32d8-40a1-9702-cc4b63f29851",
   "metadata": {},
   "outputs": [
    {
     "data": {
      "text/plain": [
       "'\\nCHAPTER I\\n\\n\"Well, Prince, so Genoa and Lucca are now just family estates of the\\nBuonapartes. But I warn you, if you don\\'t tell me that this means war,\\nif you still try to defend the infamies and horrors perpetrated by that\\nAntichrist-I really believe he is Antichrist-I will have nothing\\nmore to do with you and you are no longer my friend, no longer my\\n\\'faithful slave,\\' as you call yourself! But how do you do? I see I\\nhave frightened you-sit down and tell me all the news.\"\\n\\nIt was in July, 1805, and the speaker was the well-known Anna Pavlovna\\nScherer, maid of honor and favorite of the Empress Marya Fedorovna.\\nWith these words she greeted Prince Vasili Kuragin, a man of high\\nrank and importance, who was the first to arrive at her reception. Anna\\nPavlovna had had a cough for some days. She was, as she said, suffering\\nfrom la grippe; grippe being then a new word in St. Petersburg, used\\nonly by the elite.\\n\\nAll her invitations without exception, written in French, and delivered\\nby a scarle'"
      ]
     },
     "execution_count": 2,
     "metadata": {},
     "output_type": "execute_result"
    }
   ],
   "source": [
    "text[:1000]"
   ]
  },
  {
   "cell_type": "markdown",
   "id": "36de36cc-9023-496c-af87-f763c75eb6e9",
   "metadata": {},
   "source": [
    "В файлах https://github.com/Andrew-Zlobin/CMDC/blob/main/task3/BWT.py и https://github.com/Andrew-Zlobin/CMDC/blob/main/task3/DC.py реализованы алгориты BWT и DC соответсвенно."
   ]
  },
  {
   "cell_type": "code",
   "execution_count": 3,
   "id": "1449d02b-e9cb-4b24-afcf-757201a429b1",
   "metadata": {},
   "outputs": [],
   "source": [
    "from BWT import BWT\n",
    "from DC import DC\n",
    "from utils import BWT_DC_encode_pipeline, BWT_DC_decode_pipeline, alphabet_to_number, number_to_alphabet"
   ]
  },
  {
   "cell_type": "markdown",
   "id": "bc0bb244-1e71-4b54-a45e-153b1232c1ba",
   "metadata": {},
   "source": [
    "Напишем вспомогательные функции, чтобы убедиться, что они работают корректно:"
   ]
  },
  {
   "cell_type": "code",
   "execution_count": 4,
   "id": "097bbed3-e178-4c03-aab7-c674b58f360e",
   "metadata": {},
   "outputs": [],
   "source": [
    "def BWT_DC_encode(text):\n",
    "    bwt_text = BWT.forward(text)\n",
    "    alphabet = \"\\x01\" + \"\".join(sorted(list(set(text))))\n",
    "    int_alphabet = alphabet_to_number(alphabet)\n",
    "    print(\"end symbol in bwt\", '\\x01' in bwt_text)\n",
    "    print(\"end symbol in alphabet\", '\\x01' in alphabet)\n",
    "    print(\"bwt_text = \", bwt_text)\n",
    "    dc_text = DC.code(bwt_text, alphabet, BWT.get_char_spacing())\n",
    "    text_len = len(bwt_text)\n",
    "    array_to_encode = [text_len] + dc_text\n",
    "    return array_to_encode, int_alphabet\n",
    "\n",
    "def BWT_DC_decode(array_to_encode, int_alphabet):\n",
    "    text_len = array_to_encode[0]\n",
    "    dc_text = array_to_encode[1:]\n",
    "    alphabet = number_to_alphabet(int_alphabet)\n",
    "    dc_decoded = DC.decode(dc_text, alphabet, text_len)\n",
    "    bwt_decoded = BWT.reverse(dc_decoded)\n",
    "    print(\"end symbol in dc\", '\\x01' in bwt_decoded)\n",
    "    return bwt_decoded"
   ]
  },
  {
   "cell_type": "code",
   "execution_count": 5,
   "id": "c1f7566b-3138-4f07-ad4f-6c29243b9a76",
   "metadata": {},
   "outputs": [
    {
     "name": "stderr",
     "output_type": "stream",
     "text": [
      "/home/dr_drew/Projects/CMDC_env/lib/python3.11/site-packages/pydivsufsort/divsufsort.py:103: UserWarning: converting str argument uses more memory\n",
      "  inp_p = _get_bytes_pointer(inp)\n",
      "100%|██████████████████████████████████████████████████████████████████████████████████████████████████████████████████████████████████████████| 3201650/3201650 [00:00<00:00, 5721997.79it/s]\n",
      "IOPub data rate exceeded.\n",
      "The Jupyter server will temporarily stop sending output\n",
      "to the client in order to avoid crashing it.\n",
      "To change this limit, set the config variable\n",
      "`--ServerApp.iopub_data_rate_limit`.\n",
      "\n",
      "Current values:\n",
      "ServerApp.iopub_data_rate_limit=1000000.0 (bytes/sec)\n",
      "ServerApp.rate_limit_window=3.0 (secs)\n",
      "\n"
     ]
    }
   ],
   "source": [
    "prepared_list, alph = BWT_DC_encode(text)"
   ]
  },
  {
   "cell_type": "code",
   "execution_count": 6,
   "id": "ee2faaa0-0a20-4a41-8a39-536e5929a6b8",
   "metadata": {},
   "outputs": [
    {
     "name": "stdout",
     "output_type": "stream",
     "text": [
      "end symbol in dc False\n"
     ]
    }
   ],
   "source": [
    "decoded_text = BWT_DC_decode(prepared_list, alph)"
   ]
  },
  {
   "cell_type": "code",
   "execution_count": 7,
   "id": "dab1efc6-8e10-442f-ab0a-7c2dd64064c1",
   "metadata": {},
   "outputs": [
    {
     "data": {
      "text/plain": [
       "'\\nCHAPTER I\\n\\n\"Well, Prince, so Genoa and Lucca are now just family estates of the\\nBuonapartes. But I '"
      ]
     },
     "execution_count": 7,
     "metadata": {},
     "output_type": "execute_result"
    }
   ],
   "source": [
    "decoded_text[:100]"
   ]
  },
  {
   "cell_type": "markdown",
   "id": "3ae1d12e-3fcf-4159-bfc0-6c1586ace062",
   "metadata": {},
   "source": [
    "Строки совпадают, значит алгоритмы работают верно"
   ]
  },
  {
   "cell_type": "code",
   "execution_count": 8,
   "id": "4e8c5bbb-a131-4360-849a-978338901950",
   "metadata": {},
   "outputs": [
    {
     "data": {
      "text/plain": [
       "[]"
      ]
     },
     "execution_count": 8,
     "metadata": {},
     "output_type": "execute_result"
    }
   ],
   "source": [
    "[i for i, j in zip(text, decoded_text) if i != j]"
   ]
  },
  {
   "cell_type": "markdown",
   "id": "0bef158b-d0ab-4152-8e1c-34af1c2c6c70",
   "metadata": {},
   "source": [
    "Посмотрим на небольшую статистику массива, который получается после DC:"
   ]
  },
  {
   "cell_type": "code",
   "execution_count": 9,
   "id": "2f435221-7380-48ac-a7a9-eca0121460a6",
   "metadata": {},
   "outputs": [
    {
     "data": {
      "text/plain": [
       "(3007480, 3201650)"
      ]
     },
     "execution_count": 9,
     "metadata": {},
     "output_type": "execute_result"
    }
   ],
   "source": [
    "max(prepared_list[1:]), max(prepared_list)"
   ]
  },
  {
   "cell_type": "code",
   "execution_count": 10,
   "id": "de374fbc-c453-41c1-91a4-511ca7617e6f",
   "metadata": {},
   "outputs": [
    {
     "data": {
      "text/plain": [
       "3201649"
      ]
     },
     "execution_count": 10,
     "metadata": {},
     "output_type": "execute_result"
    }
   ],
   "source": [
    "len(text)"
   ]
  },
  {
   "cell_type": "code",
   "execution_count": 11,
   "id": "741edf80-e9cb-41f0-bdd8-b2e377e436c2",
   "metadata": {},
   "outputs": [
    {
     "data": {
      "text/plain": [
       "1378857"
      ]
     },
     "execution_count": 11,
     "metadata": {},
     "output_type": "execute_result"
    }
   ],
   "source": [
    "len(prepared_list)"
   ]
  },
  {
   "cell_type": "code",
   "execution_count": 12,
   "id": "508cbe0f-e1d0-4c28-8930-2dd67df92474",
   "metadata": {},
   "outputs": [
    {
     "data": {
      "text/plain": [
       "1343183"
      ]
     },
     "execution_count": 12,
     "metadata": {},
     "output_type": "execute_result"
    }
   ],
   "source": [
    "sum([1 for el in prepared_list if el <= 254])"
   ]
  },
  {
   "cell_type": "code",
   "execution_count": 13,
   "id": "caba3acf-9480-419d-9ea1-f2220fac56c2",
   "metadata": {},
   "outputs": [
    {
     "data": {
      "text/plain": [
       "35279"
      ]
     },
     "execution_count": 13,
     "metadata": {},
     "output_type": "execute_result"
    }
   ],
   "source": [
    "sum([1 for el in prepared_list if el > 254 and el <= 65789])"
   ]
  },
  {
   "cell_type": "code",
   "execution_count": 14,
   "id": "7c2898a3-c51a-473d-be38-2a13fb69190e",
   "metadata": {},
   "outputs": [
    {
     "data": {
      "text/plain": [
       "395"
      ]
     },
     "execution_count": 14,
     "metadata": {},
     "output_type": "execute_result"
    }
   ],
   "source": [
    "sum([1 for el in prepared_list if el > 254 and el > 65789])"
   ]
  },
  {
   "cell_type": "markdown",
   "id": "82309cb2-1e5e-4c47-8a35-45bfff743d9c",
   "metadata": {},
   "source": [
    "Итого, получается, что текст длиной 3201649 символов, преобразуется в массив из 1378857 чисел, 1343183 меньше 254, 395 больше 65789 и 35279 лежат между 254 и 65789"
   ]
  },
  {
   "cell_type": "markdown",
   "id": "2bd557e2-f59d-45df-bf10-97c76959bfdf",
   "metadata": {},
   "source": [
    "Для сжатия этого массива будем использовать дельта-код Элиаса, арифметическое, и кодирование с переполнением\n",
    "Они реалзованы соответственно в:  \n",
    "https://github.com/Andrew-Zlobin/CMDC/blob/main/task3/compression/elias.py  \n",
    "https://github.com/Andrew-Zlobin/CMDC/blob/main/task3/compression/arithmetic.py  \n",
    "https://github.com/Andrew-Zlobin/CMDC/blob/main/task3/compression/overflow.py"
   ]
  },
  {
   "cell_type": "markdown",
   "id": "8d201954-1cdc-4712-9fc2-6be030766e48",
   "metadata": {},
   "source": [
    "И резульаты работы на тексте из предыдущего задания"
   ]
  },
  {
   "cell_type": "markdown",
   "id": "527646d5-1ee3-4591-a073-b1120d9dd297",
   "metadata": {},
   "source": [
    "### код Фибоначчи"
   ]
  },
  {
   "cell_type": "markdown",
   "id": "939df2b6-f7a2-47b4-83ac-5ad8226195aa",
   "metadata": {},
   "source": [
    "Кодирование"
   ]
  },
  {
   "cell_type": "code",
   "execution_count": 43,
   "id": "b8d4f618-3d6a-40ea-830a-681fac1eca6d",
   "metadata": {},
   "outputs": [
    {
     "name": "stdout",
     "output_type": "stream",
     "text": [
      "/home/dr_drew/Projects/CMDC_env/lib/python3.11/site-packages/pydivsufsort/divsufsort.py:103: UserWarning: converting str argument uses more memory\n",
      "  inp_p = _get_bytes_pointer(inp)\n",
      "100%|████████████████████████████| 3201650/3201650 [00:00<00:00, 5914465.51it/s]\n",
      "compressed to 911671 bytes, (or 0.869 MB)\n",
      "CPU times: user 24.1 ms, sys: 8.54 ms, total: 32.6 ms\n",
      "Wall time: 3.38 s\n"
     ]
    }
   ],
   "source": [
    "%%time\n",
    "!python3 compressor.py war_peace_ascii_Zlobin_AS.txt -i -f result_fib.compressed"
   ]
  },
  {
   "cell_type": "markdown",
   "id": "68866580-bacb-4f75-8a9d-a1069ac2f539",
   "metadata": {},
   "source": [
    "Размер закодированного файла:"
   ]
  },
  {
   "cell_type": "code",
   "execution_count": 44,
   "id": "8a523c52-973c-473e-bd98-9bf8acab4404",
   "metadata": {},
   "outputs": [
    {
     "name": "stdout",
     "output_type": "stream",
     "text": [
      "-rw-r--r-- 1 dr_drew dr_drew 911671 июн 24 00:41 result_fib.compressed\n"
     ]
    }
   ],
   "source": [
    "!ls -l result_fib.compressed"
   ]
  },
  {
   "cell_type": "markdown",
   "id": "9544fafc-3107-4cb1-a003-c07404f2eb93",
   "metadata": {},
   "source": [
    "Декодирование:"
   ]
  },
  {
   "cell_type": "code",
   "execution_count": 45,
   "id": "1844a534-38ba-42de-90aa-d9e86410e053",
   "metadata": {},
   "outputs": [
    {
     "name": "stdout",
     "output_type": "stream",
     "text": [
      "CPU times: user 49.1 ms, sys: 18.2 ms, total: 67.2 ms\n",
      "Wall time: 9.23 s\n"
     ]
    }
   ],
   "source": [
    "%%time\n",
    "!python3 compressor.py result_fib.compressed -i -f decoded_fib.txt"
   ]
  },
  {
   "cell_type": "markdown",
   "id": "9cc0c406-aaa9-4cb6-b0bb-3cb498df72fc",
   "metadata": {},
   "source": [
    "Проверяем, чтобы файл совпал с исходным:"
   ]
  },
  {
   "cell_type": "code",
   "execution_count": 46,
   "id": "5add10a9-d201-403c-8241-80b13f15be82",
   "metadata": {},
   "outputs": [],
   "source": [
    "!cmp war_peace_ascii_Zlobin_AS.txt decoded_fib.txt"
   ]
  },
  {
   "cell_type": "markdown",
   "id": "8401f3b3-20c7-4cbf-beed-dd9f549854c0",
   "metadata": {},
   "source": [
    "### Дельта код:"
   ]
  },
  {
   "cell_type": "markdown",
   "id": "528532dc-9624-4f8d-a0ee-8b33a4ba4f63",
   "metadata": {},
   "source": [
    "Кодирование"
   ]
  },
  {
   "cell_type": "code",
   "execution_count": 47,
   "id": "1ea14825-150e-498d-b5b6-b9d08e4fe18d",
   "metadata": {},
   "outputs": [
    {
     "name": "stdout",
     "output_type": "stream",
     "text": [
      "/home/dr_drew/Projects/CMDC_env/lib/python3.11/site-packages/pydivsufsort/divsufsort.py:103: UserWarning: converting str argument uses more memory\n",
      "  inp_p = _get_bytes_pointer(inp)\n",
      "100%|████████████████████████████| 3201650/3201650 [00:00<00:00, 5853325.45it/s]\n",
      "compressed to 919189 bytes, (or 0.877 MB)\n",
      "CPU times: user 21 ms, sys: 8.89 ms, total: 29.9 ms\n",
      "Wall time: 2.78 s\n"
     ]
    }
   ],
   "source": [
    "%%time\n",
    "!python3 compressor.py war_peace_ascii_Zlobin_AS.txt -d -f result_delta.compressed"
   ]
  },
  {
   "cell_type": "markdown",
   "id": "af99d8ec-559d-4aa5-9446-390376410d65",
   "metadata": {},
   "source": [
    "Размер закодированного файла:"
   ]
  },
  {
   "cell_type": "code",
   "execution_count": 48,
   "id": "6ff6a516-f1ce-4810-a359-66c7637df74d",
   "metadata": {},
   "outputs": [
    {
     "name": "stdout",
     "output_type": "stream",
     "text": [
      "-rw-r--r-- 1 dr_drew dr_drew 919189 июн 24 00:44 result_delta.compressed\n"
     ]
    }
   ],
   "source": [
    "!ls -l result_delta.compressed"
   ]
  },
  {
   "cell_type": "markdown",
   "id": "4cddc4e9-783a-45f3-b779-e57cfe89a0fd",
   "metadata": {},
   "source": [
    "Декодирование:"
   ]
  },
  {
   "cell_type": "code",
   "execution_count": 49,
   "id": "cfeb0cbb-1d18-48b9-91dd-f8af7f003ece",
   "metadata": {
    "scrolled": true
   },
   "outputs": [
    {
     "name": "stdout",
     "output_type": "stream",
     "text": [
      "CPU times: user 1.4 s, sys: 274 ms, total: 1.67 s\n",
      "Wall time: 4min 7s\n"
     ]
    }
   ],
   "source": [
    "%%time\n",
    "!python3 compressor.py result_delta.compressed -d -f decoded_delta.txt"
   ]
  },
  {
   "cell_type": "markdown",
   "id": "4059121f-e5fb-4473-9937-c7b987646f89",
   "metadata": {},
   "source": [
    "CPU times: user 2.61 s, sys: 580 ms, total: 3.19 s\n",
    "Wall time: 4min 1s"
   ]
  },
  {
   "cell_type": "markdown",
   "id": "05771176-9402-4149-ae4b-9de42eb2020f",
   "metadata": {},
   "source": [
    "Проверяем, чтобы файл совпал с исходным:"
   ]
  },
  {
   "cell_type": "code",
   "execution_count": 50,
   "id": "8343745d-f4c2-477e-87f7-8cec7177f577",
   "metadata": {},
   "outputs": [],
   "source": [
    "!cmp war_peace_ascii_Zlobin_AS.txt decoded_delta.txt"
   ]
  },
  {
   "cell_type": "markdown",
   "id": "a8749528-6576-436c-be47-51276f309cfa",
   "metadata": {},
   "source": [
    "### Арифметическое кодирование (32 бита)"
   ]
  },
  {
   "cell_type": "markdown",
   "id": "bd6a9f55-b25f-4c68-86a2-ccfa086ecfb6",
   "metadata": {},
   "source": [
    "Кодирование"
   ]
  },
  {
   "cell_type": "code",
   "execution_count": 51,
   "id": "006be1dd-52a3-4cba-8d46-d8b878615b2d",
   "metadata": {},
   "outputs": [
    {
     "name": "stdout",
     "output_type": "stream",
     "text": [
      "/home/dr_drew/Projects/CMDC_env/lib/python3.11/site-packages/pydivsufsort/divsufsort.py:103: UserWarning: converting str argument uses more memory\n",
      "  inp_p = _get_bytes_pointer(inp)\n",
      "100%|████████████████████████████| 3201650/3201650 [00:00<00:00, 5906738.96it/s]\n",
      "compressed to 863866 bytes, (or 0.824 MB)\n",
      "CPU times: user 997 ms, sys: 242 ms, total: 1.24 s\n",
      "Wall time: 3min 49s\n"
     ]
    }
   ],
   "source": [
    "%%time\n",
    "!python3 compressor.py war_peace_ascii_Zlobin_AS.txt -a -f result_ar.compressed"
   ]
  },
  {
   "cell_type": "markdown",
   "id": "d4ce9528-792e-426b-a907-4fae7db97b15",
   "metadata": {},
   "source": [
    "Размер закодированного файла:"
   ]
  },
  {
   "cell_type": "code",
   "execution_count": 52,
   "id": "73a72361-75f0-47a3-bb0e-04dc83d1c73b",
   "metadata": {},
   "outputs": [
    {
     "name": "stdout",
     "output_type": "stream",
     "text": [
      "-rw-r--r-- 1 dr_drew dr_drew 863866 июн 24 00:52 result_ar.compressed\n"
     ]
    }
   ],
   "source": [
    "!ls -l result_ar.compressed"
   ]
  },
  {
   "cell_type": "markdown",
   "id": "1ecd8288-f7f7-4a31-96d7-f1fe83819fc1",
   "metadata": {},
   "source": [
    "Декодирование:"
   ]
  },
  {
   "cell_type": "code",
   "execution_count": 53,
   "id": "e7116f5f-ef8c-42c3-b931-11383fde0a1f",
   "metadata": {},
   "outputs": [
    {
     "name": "stdout",
     "output_type": "stream",
     "text": [
      "CPU times: user 1.11 s, sys: 231 ms, total: 1.35 s\n",
      "Wall time: 4min 14s\n"
     ]
    }
   ],
   "source": [
    "%%time\n",
    "!python3 compressor.py result_ar.compressed -a -f decoded_ar.txt"
   ]
  },
  {
   "cell_type": "markdown",
   "id": "9ad89308-1770-412e-b07e-ea967e9a0d93",
   "metadata": {},
   "source": [
    "Проверяем, чтобы файл совпал с исходным:"
   ]
  },
  {
   "cell_type": "code",
   "execution_count": 54,
   "id": "f848a138-4626-4956-8a5d-1f6d3163829e",
   "metadata": {},
   "outputs": [],
   "source": [
    "!cmp war_peace_ascii_Zlobin_AS.txt decoded_ar.txt"
   ]
  },
  {
   "cell_type": "markdown",
   "id": "c411b665-2105-4faf-845f-e9d360497a90",
   "metadata": {},
   "source": [
    "### Кодирование с переполнением:"
   ]
  },
  {
   "cell_type": "markdown",
   "id": "fd248aa9-f8b2-41ac-bc74-371a3d4f7e82",
   "metadata": {},
   "source": [
    "Кодирование"
   ]
  },
  {
   "cell_type": "code",
   "execution_count": 60,
   "id": "d7d9f101-d53d-4052-add4-7202e2d9111d",
   "metadata": {},
   "outputs": [
    {
     "name": "stdout",
     "output_type": "stream",
     "text": [
      "/home/dr_drew/Projects/CMDC_env/lib/python3.11/site-packages/pydivsufsort/divsufsort.py:103: UserWarning: converting str argument uses more memory\n",
      "  inp_p = _get_bytes_pointer(inp)\n",
      "100%|████████████████████████████| 3201650/3201650 [00:00<00:00, 5659684.33it/s]\n",
      "compressed to 1451817 bytes, (or 1.385 MB)\n",
      "CPU times: user 21.1 ms, sys: 7.84 ms, total: 29 ms\n",
      "Wall time: 2.46 s\n"
     ]
    }
   ],
   "source": [
    "%%time\n",
    "!python3 compressor.py war_peace_ascii_Zlobin_AS.txt -o -f result_ov.compressed"
   ]
  },
  {
   "cell_type": "markdown",
   "id": "e744300c-6783-430b-91eb-9e56f79752e6",
   "metadata": {},
   "source": [
    "Размер закодированного файла:"
   ]
  },
  {
   "cell_type": "code",
   "execution_count": 61,
   "id": "09a38341-c484-4673-93d2-fff3835265ac",
   "metadata": {},
   "outputs": [
    {
     "name": "stdout",
     "output_type": "stream",
     "text": [
      "-rw-r--r-- 1 dr_drew dr_drew 1451817 июн 24 00:59 result_ov.compressed\n"
     ]
    }
   ],
   "source": [
    "!ls -l result_ov.compressed"
   ]
  },
  {
   "cell_type": "markdown",
   "id": "18baf694-e86a-4a1c-b010-dcecac8cd801",
   "metadata": {},
   "source": [
    "Декодирование:"
   ]
  },
  {
   "cell_type": "code",
   "execution_count": 62,
   "id": "20881acd-5d40-4e1f-b253-c4df28130aa3",
   "metadata": {},
   "outputs": [
    {
     "name": "stdout",
     "output_type": "stream",
     "text": [
      "CPU times: user 56.2 ms, sys: 9.58 ms, total: 65.8 ms\n",
      "Wall time: 8.7 s\n"
     ]
    }
   ],
   "source": [
    "%%time\n",
    "!python3 compressor.py result_ov.compressed -o -f decoded_ov.txt"
   ]
  },
  {
   "cell_type": "markdown",
   "id": "e9acb262-678a-4839-b6be-dd6cf1b61c34",
   "metadata": {},
   "source": [
    "Проверяем, чтобы файл совпал с исходным:"
   ]
  },
  {
   "cell_type": "code",
   "execution_count": 63,
   "id": "49d912f2-fd6e-47fa-8b96-3667f9b87931",
   "metadata": {},
   "outputs": [],
   "source": [
    "!cmp war_peace_ascii_Zlobin_AS.txt decoded_ov.txt"
   ]
  },
  {
   "cell_type": "code",
   "execution_count": 64,
   "id": "9b3393ae-08d3-48c2-a457-bdb6173c24e4",
   "metadata": {},
   "outputs": [
    {
     "name": "stdout",
     "output_type": "stream",
     "text": [
      "-rw-r--r-- 1 dr_drew dr_drew 3201649 июн 20 15:02 war_peace_ascii_Zlobin_AS.txt\n"
     ]
    }
   ],
   "source": [
    "!ls -l war_peace_ascii_Zlobin_AS.txt"
   ]
  },
  {
   "cell_type": "markdown",
   "id": "04c5a7b3-e295-4a85-9d71-c53846438d8f",
   "metadata": {},
   "source": [
    "### Кодирование с переполнением, а потом арифметическое"
   ]
  },
  {
   "cell_type": "code",
   "execution_count": 78,
   "id": "d15510de-f3a7-45a8-abfc-a747e57a7e88",
   "metadata": {},
   "outputs": [
    {
     "name": "stdout",
     "output_type": "stream",
     "text": [
      "/home/dr_drew/Projects/CMDC_env/lib/python3.11/site-packages/pydivsufsort/divsufsort.py:103: UserWarning: converting str argument uses more memory\n",
      "  inp_p = _get_bytes_pointer(inp)\n",
      "100%|████████████████████████████| 3201650/3201650 [00:00<00:00, 5926114.25it/s]\n",
      "dc coding\n",
      "100%|███████████████████████████▉| 3201650/3201729 [00:01<00:00, 2014996.97it/s]\n",
      "compressed to 822491 bytes, (or 0.784 MB)\n",
      "CPU times: user 76.8 ms, sys: 36.3 ms, total: 113 ms\n",
      "Wall time: 16.5 s\n"
     ]
    }
   ],
   "source": [
    "%%time\n",
    "!python3 compressor.py war_peace_ascii_Zlobin_AS.txt -c -f result_ov_ar.compressed"
   ]
  },
  {
   "cell_type": "code",
   "execution_count": 79,
   "id": "7b99e810-d583-4ade-8709-609779a4ecfe",
   "metadata": {},
   "outputs": [
    {
     "name": "stdout",
     "output_type": "stream",
     "text": [
      "CPU times: user 157 ms, sys: 35.2 ms, total: 193 ms\n",
      "Wall time: 29.2 s\n"
     ]
    }
   ],
   "source": [
    "%%time\n",
    "!python3 compressor.py result_ov_ar.compressed -c -f decoded_ov_ar.txt"
   ]
  },
  {
   "cell_type": "markdown",
   "id": "355f48d5-9b8a-483c-81f3-8c9b0be52b5c",
   "metadata": {},
   "source": [
    "Проверяем, чтобы файл совпал с исходным:"
   ]
  },
  {
   "cell_type": "code",
   "execution_count": 80,
   "id": "26685e5c-d653-4841-a825-ebdae3a01470",
   "metadata": {},
   "outputs": [],
   "source": [
    "!cmp war_peace_ascii_Zlobin_AS.txt decoded_ov_ar.txt"
   ]
  },
  {
   "cell_type": "markdown",
   "id": "61adc7e1-1b70-47d7-aa5a-4f73b41c6472",
   "metadata": {},
   "source": [
    "Итого получилось, что исходный текст объёмом 3.05 мб удалось сжать до 1.385 мб кодированием с переполнением, до 0.877 мб дельта кодом, до 0.869 кодом Фибоначчи и до 0.824 мб арифметическим кодированием. Сочетание кодирования с переполнением и арифметического показало наилучший результат в 0.784 мб."
   ]
  },
  {
   "cell_type": "markdown",
   "id": "eb55dc98-6e07-49d2-b068-426faec5b843",
   "metadata": {},
   "source": [
    "## датасет из википедии"
   ]
  },
  {
   "cell_type": "code",
   "execution_count": 69,
   "id": "16d33c3b-0d35-4137-b6e5-d4952d7773f2",
   "metadata": {},
   "outputs": [
    {
     "name": "stdout",
     "output_type": "stream",
     "text": [
      "/home/dr_drew/Projects/CMDC_env/lib/python3.11/site-packages/pydivsufsort/divsufsort.py:103: UserWarning: converting str argument uses more memory\n",
      "  inp_p = _get_bytes_pointer(inp)\n",
      "100%|██████████████████████████| 99325589/99325589 [00:21<00:00, 4628898.90it/s]\n",
      "dc coding\n",
      "100%|█████████████████████████▉| 99325589/99325687 [00:55<00:00, 1803286.16it/s]\n",
      "compressed to 25596415 bytes, (or 24.411 MB)\n"
     ]
    }
   ],
   "source": [
    "!python3 compressor.py enwik8.txt -i -f result_enwik8.compressed"
   ]
  },
  {
   "cell_type": "markdown",
   "id": "cd2a4b0f-ad4a-4ec3-b299-48e4d99b7939",
   "metadata": {},
   "source": [
    "### "
   ]
  },
  {
   "cell_type": "markdown",
   "id": "d8fe625b-45c1-4168-bc08-f7e608ad7e1b",
   "metadata": {},
   "source": [
    "И сочетанием кодирования с переполнением и арифметического:"
   ]
  },
  {
   "cell_type": "code",
   "execution_count": 1,
   "id": "589ad140-b447-4646-9819-d8913d83ee3a",
   "metadata": {},
   "outputs": [
    {
     "name": "stdout",
     "output_type": "stream",
     "text": [
      "/home/dr_drew/Projects/CMDC_env/lib/python3.11/site-packages/pydivsufsort/divsufsort.py:103: UserWarning: converting str argument uses more memory\n",
      "  inp_p = _get_bytes_pointer(inp)\n",
      "100%|██████████████████████████| 99325589/99325589 [00:21<00:00, 4658868.25it/s]\n",
      "dc coding\n",
      "100%|█████████████████████████▉| 99325589/99325687 [00:55<00:00, 1802903.12it/s]\n",
      "compressed to 23692592 bytes, (or 22.595 MB)\n",
      "CPU times: user 2.31 s, sys: 483 ms, total: 2.8 s\n",
      "Wall time: 7min 52s\n"
     ]
    }
   ],
   "source": [
    "%%time\n",
    "!python3 compressor.py enwik8.txt -c -f result_enwik8_ov_ar.compressed"
   ]
  },
  {
   "cell_type": "code",
   "execution_count": 3,
   "id": "ceb423e1-53ad-43da-bc17-2c15b16f451d",
   "metadata": {},
   "outputs": [
    {
     "name": "stdout",
     "output_type": "stream",
     "text": [
      "CPU times: user 3.81 s, sys: 890 ms, total: 4.7 s\n",
      "Wall time: 15min 10s\n"
     ]
    }
   ],
   "source": [
    "%%time\n",
    "!python3 compressor.py result_enwik8_ov_ar.compressed -c -f decoded_enwik8_ov_ar.txt"
   ]
  },
  {
   "cell_type": "code",
   "execution_count": 4,
   "id": "0ea30aa1-73fa-4c86-a00e-4088cb34e602",
   "metadata": {},
   "outputs": [],
   "source": [
    "!cmp enwik8.txt decoded_enwik8_ov_ar.txt"
   ]
  },
  {
   "cell_type": "markdown",
   "id": "4e30ec27-f3f4-49f2-941e-8b1f3c65ad13",
   "metadata": {},
   "source": [
    "### И датасет побольше"
   ]
  },
  {
   "cell_type": "markdown",
   "id": "2fbba39a-c547-46a8-bb4e-3d5200937d36",
   "metadata": {},
   "source": [
    "Также сочетанием кодирования с переполнением и арифметического:"
   ]
  },
  {
   "cell_type": "code",
   "execution_count": 2,
   "id": "c5752b3b-8dfb-4c9f-9db5-fc5f837cf211",
   "metadata": {},
   "outputs": [
    {
     "name": "stdout",
     "output_type": "stream",
     "text": [
      "/home/dr_drew/Projects/CMDC_env/lib/python3.11/site-packages/pydivsufsort/divsufsort.py:103: UserWarning: converting str argument uses more memory\n",
      "  inp_p = _get_bytes_pointer(inp)\n",
      "100%|████████████████████████| 995619570/995619570 [03:44<00:00, 4431923.74it/s]\n",
      "dc coding\n",
      "100%|███████████████████████▉| 995619570/995619668 [08:54<00:00, 1862359.50it/s]\n",
      "compressed to 188258893 bytes, (or 179.538 MB)\n",
      "CPU times: user 19 s, sys: 4.36 s, total: 23.3 s\n",
      "Wall time: 1h 4min 48s\n"
     ]
    }
   ],
   "source": [
    "%%time\n",
    "!python3 compressor.py enwik9.txt -c -f result_enwik9_ov_ar.compressed"
   ]
  },
  {
   "cell_type": "markdown",
   "id": "9b7306ec-3e3a-4e54-88f3-e4f8935a6992",
   "metadata": {},
   "source": [
    "Итого, получается, датасет объёмом 95 мб удалось сжать до 22.595 мб, а объёмом 953 мб до 179.538 мб."
   ]
  }
 ],
 "metadata": {
  "kernelspec": {
   "display_name": "Python 3 (ipykernel)",
   "language": "python",
   "name": "python3"
  },
  "language_info": {
   "codemirror_mode": {
    "name": "ipython",
    "version": 3
   },
   "file_extension": ".py",
   "mimetype": "text/x-python",
   "name": "python",
   "nbconvert_exporter": "python",
   "pygments_lexer": "ipython3",
   "version": "3.11.2"
  }
 },
 "nbformat": 4,
 "nbformat_minor": 5
}
